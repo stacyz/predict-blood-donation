{
 "cells": [
  {
   "cell_type": "code",
   "execution_count": 7,
   "metadata": {
    "collapsed": false
   },
   "outputs": [],
   "source": [
    "# set up\n",
    "import pandas as pd\n",
    "from sklearn import tree\n",
    "from __future__ import division\n",
    "from sklearn.cross_validation import train_test_split\n",
    "from sklearn.neighbors import KNeighborsClassifier\n",
    "from sklearn.cross_validation import KFold\n",
    "%matplotlib inline\n",
    "import matplotlib.pyplot as plt\n",
    "import numpy as np"
   ]
  },
  {
   "cell_type": "code",
   "execution_count": 55,
   "metadata": {
    "collapsed": true
   },
   "outputs": [],
   "source": [
    "# read data\n",
    "training_data = pd.read_csv('./training data.csv')\n",
    "test_data = pd.read_csv('./test data.csv')"
   ]
  },
  {
   "cell_type": "code",
   "execution_count": 24,
   "metadata": {
    "collapsed": false
   },
   "outputs": [],
   "source": [
    "#training_data\n",
    "features = training_data.drop('Made Donation in March 2007', axis=1)\n",
    "outcome = training_data['Made Donation in March 2007'].squeeze()\n",
    "#outcome_data"
   ]
  },
  {
   "cell_type": "code",
   "execution_count": 25,
   "metadata": {
    "collapsed": true
   },
   "outputs": [],
   "source": [
    "train_features, test_features, train_outcome, test_outcome = train_test_split(features, outcome, test_size=0.30)"
   ]
  },
  {
   "cell_type": "code",
   "execution_count": 26,
   "metadata": {
    "collapsed": true
   },
   "outputs": [],
   "source": [
    "clf = tree.DecisionTreeClassifier()\n",
    "clf = clf.fit(train_features, train_outcome)"
   ]
  },
  {
   "cell_type": "code",
   "execution_count": 28,
   "metadata": {
    "collapsed": true
   },
   "outputs": [],
   "source": [
    "test_preds = clf.predict(test_features)"
   ]
  },
  {
   "cell_type": "code",
   "execution_count": 30,
   "metadata": {
    "collapsed": false
   },
   "outputs": [
    {
     "data": {
      "text/plain": [
       "0.63005780346820806"
      ]
     },
     "execution_count": 30,
     "metadata": {},
     "output_type": "execute_result"
    }
   ],
   "source": [
    "test_acc = (test_preds == test_outcome).sum()/len(test_outcome)\n",
    "test_acc"
   ]
  },
  {
   "cell_type": "markdown",
   "metadata": {},
   "source": [
    "## KNN"
   ]
  },
  {
   "cell_type": "code",
   "execution_count": 49,
   "metadata": {
    "collapsed": true
   },
   "outputs": [],
   "source": [
    "knn_clf = KNeighborsClassifier(n_neighbors = 4)"
   ]
  },
  {
   "cell_type": "code",
   "execution_count": 50,
   "metadata": {
    "collapsed": true
   },
   "outputs": [],
   "source": [
    "knn_fit = knn_clf.fit(train_features, train_outcome)"
   ]
  },
  {
   "cell_type": "code",
   "execution_count": 54,
   "metadata": {
    "collapsed": false
   },
   "outputs": [
    {
     "data": {
      "text/plain": [
       "array([0, 1, 0, 0, 1, 0, 0, 0, 0, 0, 0, 0, 0, 1, 0, 0, 0, 0, 0, 0, 0, 0, 0,\n",
       "       0, 0, 0, 0, 0, 1, 0, 0, 0, 0, 0, 0, 0, 0, 0, 0, 0, 0, 0, 1, 0, 0, 0,\n",
       "       0, 0, 0, 0, 0, 0, 0, 0, 0, 0, 0, 0, 0, 0, 0, 0, 0, 0, 0, 0, 0, 0, 0,\n",
       "       0, 0, 0, 0, 0, 0, 0, 0, 0, 0, 0, 0, 0, 0, 0, 0, 0, 1, 0, 0, 0, 0, 0,\n",
       "       0, 0, 0, 0, 0, 0, 0, 0, 0, 0, 0, 0, 0, 0, 0, 0, 0, 0, 0, 0, 0, 0, 0,\n",
       "       0, 0, 0, 0, 0, 0, 0, 0, 0, 0, 0, 0, 0, 1, 0, 0, 0, 1, 0, 0, 0, 0, 0,\n",
       "       0, 0, 0, 0, 0, 1, 0, 0, 0, 0, 0, 0, 0, 0, 0, 1, 0, 0, 0, 0, 0, 1, 0,\n",
       "       0, 0, 0, 0, 0, 0, 0, 0, 0, 0, 0, 0])"
      ]
     },
     "execution_count": 54,
     "metadata": {},
     "output_type": "execute_result"
    }
   ],
   "source": [
    "knn_test_preds = knn_fit.predict(test_features)\n",
    "knn_test_preds\n",
    "#test_acc = (knn_test_preds == test_outcome).sum()/len(test_outcome)\n",
    "#test_acc"
   ]
  },
  {
   "cell_type": "code",
   "execution_count": 60,
   "metadata": {
    "collapsed": false
   },
   "outputs": [
    {
     "data": {
      "text/plain": [
       "array([[ 0.75,  0.25],\n",
       "       [ 0.75,  0.25],\n",
       "       [ 0.75,  0.25],\n",
       "       [ 0.75,  0.25],\n",
       "       [ 0.75,  0.25],\n",
       "       [ 0.25,  0.75],\n",
       "       [ 0.5 ,  0.5 ],\n",
       "       [ 1.  ,  0.  ],\n",
       "       [ 1.  ,  0.  ],\n",
       "       [ 1.  ,  0.  ],\n",
       "       [ 1.  ,  0.  ],\n",
       "       [ 0.5 ,  0.5 ],\n",
       "       [ 0.75,  0.25],\n",
       "       [ 0.75,  0.25],\n",
       "       [ 0.75,  0.25],\n",
       "       [ 1.  ,  0.  ],\n",
       "       [ 0.75,  0.25],\n",
       "       [ 0.75,  0.25],\n",
       "       [ 0.75,  0.25],\n",
       "       [ 0.75,  0.25],\n",
       "       [ 0.5 ,  0.5 ],\n",
       "       [ 0.25,  0.75],\n",
       "       [ 0.25,  0.75],\n",
       "       [ 0.75,  0.25],\n",
       "       [ 1.  ,  0.  ],\n",
       "       [ 0.5 ,  0.5 ],\n",
       "       [ 1.  ,  0.  ],\n",
       "       [ 0.75,  0.25],\n",
       "       [ 1.  ,  0.  ],\n",
       "       [ 0.75,  0.25],\n",
       "       [ 0.75,  0.25],\n",
       "       [ 0.75,  0.25],\n",
       "       [ 0.75,  0.25],\n",
       "       [ 0.75,  0.25],\n",
       "       [ 1.  ,  0.  ],\n",
       "       [ 0.75,  0.25],\n",
       "       [ 0.75,  0.25],\n",
       "       [ 0.5 ,  0.5 ],\n",
       "       [ 0.75,  0.25],\n",
       "       [ 1.  ,  0.  ],\n",
       "       [ 1.  ,  0.  ],\n",
       "       [ 1.  ,  0.  ],\n",
       "       [ 1.  ,  0.  ],\n",
       "       [ 0.75,  0.25],\n",
       "       [ 1.  ,  0.  ],\n",
       "       [ 1.  ,  0.  ],\n",
       "       [ 0.75,  0.25],\n",
       "       [ 0.75,  0.25],\n",
       "       [ 1.  ,  0.  ],\n",
       "       [ 0.25,  0.75],\n",
       "       [ 0.75,  0.25],\n",
       "       [ 0.25,  0.75],\n",
       "       [ 0.5 ,  0.5 ],\n",
       "       [ 0.75,  0.25],\n",
       "       [ 1.  ,  0.  ],\n",
       "       [ 0.75,  0.25],\n",
       "       [ 0.75,  0.25],\n",
       "       [ 0.75,  0.25],\n",
       "       [ 0.75,  0.25],\n",
       "       [ 0.5 ,  0.5 ],\n",
       "       [ 1.  ,  0.  ],\n",
       "       [ 1.  ,  0.  ],\n",
       "       [ 0.75,  0.25],\n",
       "       [ 0.75,  0.25],\n",
       "       [ 1.  ,  0.  ],\n",
       "       [ 0.75,  0.25],\n",
       "       [ 0.75,  0.25],\n",
       "       [ 0.75,  0.25],\n",
       "       [ 0.5 ,  0.5 ],\n",
       "       [ 1.  ,  0.  ],\n",
       "       [ 0.75,  0.25],\n",
       "       [ 0.75,  0.25],\n",
       "       [ 1.  ,  0.  ],\n",
       "       [ 1.  ,  0.  ],\n",
       "       [ 0.75,  0.25],\n",
       "       [ 0.75,  0.25],\n",
       "       [ 1.  ,  0.  ],\n",
       "       [ 0.5 ,  0.5 ],\n",
       "       [ 0.75,  0.25],\n",
       "       [ 0.75,  0.25],\n",
       "       [ 0.75,  0.25],\n",
       "       [ 0.75,  0.25],\n",
       "       [ 1.  ,  0.  ],\n",
       "       [ 1.  ,  0.  ],\n",
       "       [ 0.75,  0.25],\n",
       "       [ 1.  ,  0.  ],\n",
       "       [ 1.  ,  0.  ],\n",
       "       [ 0.75,  0.25],\n",
       "       [ 0.75,  0.25],\n",
       "       [ 0.75,  0.25],\n",
       "       [ 0.75,  0.25],\n",
       "       [ 0.75,  0.25],\n",
       "       [ 1.  ,  0.  ],\n",
       "       [ 1.  ,  0.  ],\n",
       "       [ 0.75,  0.25],\n",
       "       [ 0.75,  0.25],\n",
       "       [ 1.  ,  0.  ],\n",
       "       [ 0.75,  0.25],\n",
       "       [ 0.25,  0.75],\n",
       "       [ 1.  ,  0.  ],\n",
       "       [ 0.5 ,  0.5 ],\n",
       "       [ 1.  ,  0.  ],\n",
       "       [ 1.  ,  0.  ],\n",
       "       [ 0.5 ,  0.5 ],\n",
       "       [ 0.75,  0.25],\n",
       "       [ 1.  ,  0.  ],\n",
       "       [ 0.75,  0.25],\n",
       "       [ 0.5 ,  0.5 ],\n",
       "       [ 1.  ,  0.  ],\n",
       "       [ 1.  ,  0.  ],\n",
       "       [ 1.  ,  0.  ],\n",
       "       [ 1.  ,  0.  ],\n",
       "       [ 0.75,  0.25],\n",
       "       [ 0.75,  0.25],\n",
       "       [ 0.75,  0.25],\n",
       "       [ 1.  ,  0.  ],\n",
       "       [ 0.75,  0.25],\n",
       "       [ 0.75,  0.25],\n",
       "       [ 1.  ,  0.  ],\n",
       "       [ 1.  ,  0.  ],\n",
       "       [ 1.  ,  0.  ],\n",
       "       [ 0.75,  0.25],\n",
       "       [ 1.  ,  0.  ],\n",
       "       [ 0.25,  0.75],\n",
       "       [ 0.5 ,  0.5 ],\n",
       "       [ 0.75,  0.25],\n",
       "       [ 0.75,  0.25],\n",
       "       [ 0.75,  0.25],\n",
       "       [ 1.  ,  0.  ],\n",
       "       [ 1.  ,  0.  ],\n",
       "       [ 0.5 ,  0.5 ],\n",
       "       [ 0.75,  0.25],\n",
       "       [ 0.75,  0.25],\n",
       "       [ 0.5 ,  0.5 ],\n",
       "       [ 0.75,  0.25],\n",
       "       [ 0.75,  0.25],\n",
       "       [ 1.  ,  0.  ],\n",
       "       [ 0.75,  0.25],\n",
       "       [ 0.5 ,  0.5 ],\n",
       "       [ 0.75,  0.25],\n",
       "       [ 0.75,  0.25],\n",
       "       [ 1.  ,  0.  ],\n",
       "       [ 1.  ,  0.  ],\n",
       "       [ 1.  ,  0.  ],\n",
       "       [ 0.75,  0.25],\n",
       "       [ 1.  ,  0.  ],\n",
       "       [ 1.  ,  0.  ],\n",
       "       [ 0.25,  0.75],\n",
       "       [ 1.  ,  0.  ],\n",
       "       [ 0.75,  0.25],\n",
       "       [ 0.75,  0.25],\n",
       "       [ 0.75,  0.25],\n",
       "       [ 0.75,  0.25],\n",
       "       [ 0.25,  0.75],\n",
       "       [ 0.75,  0.25],\n",
       "       [ 0.5 ,  0.5 ],\n",
       "       [ 1.  ,  0.  ],\n",
       "       [ 1.  ,  0.  ],\n",
       "       [ 0.25,  0.75],\n",
       "       [ 1.  ,  0.  ],\n",
       "       [ 0.75,  0.25],\n",
       "       [ 0.75,  0.25],\n",
       "       [ 0.75,  0.25],\n",
       "       [ 0.75,  0.25],\n",
       "       [ 0.75,  0.25],\n",
       "       [ 1.  ,  0.  ],\n",
       "       [ 0.75,  0.25],\n",
       "       [ 0.75,  0.25],\n",
       "       [ 1.  ,  0.  ],\n",
       "       [ 0.75,  0.25],\n",
       "       [ 0.75,  0.25],\n",
       "       [ 1.  ,  0.  ],\n",
       "       [ 0.75,  0.25],\n",
       "       [ 0.5 ,  0.5 ],\n",
       "       [ 0.75,  0.25],\n",
       "       [ 1.  ,  0.  ],\n",
       "       [ 1.  ,  0.  ],\n",
       "       [ 0.75,  0.25],\n",
       "       [ 0.75,  0.25],\n",
       "       [ 0.5 ,  0.5 ],\n",
       "       [ 1.  ,  0.  ],\n",
       "       [ 0.75,  0.25],\n",
       "       [ 0.75,  0.25],\n",
       "       [ 1.  ,  0.  ],\n",
       "       [ 0.75,  0.25],\n",
       "       [ 0.75,  0.25],\n",
       "       [ 1.  ,  0.  ],\n",
       "       [ 0.75,  0.25],\n",
       "       [ 0.75,  0.25],\n",
       "       [ 1.  ,  0.  ],\n",
       "       [ 0.5 ,  0.5 ],\n",
       "       [ 1.  ,  0.  ],\n",
       "       [ 1.  ,  0.  ],\n",
       "       [ 1.  ,  0.  ],\n",
       "       [ 0.75,  0.25],\n",
       "       [ 1.  ,  0.  ],\n",
       "       [ 1.  ,  0.  ],\n",
       "       [ 0.75,  0.25],\n",
       "       [ 0.75,  0.25],\n",
       "       [ 0.75,  0.25]])"
      ]
     },
     "execution_count": 60,
     "metadata": {},
     "output_type": "execute_result"
    }
   ],
   "source": [
    "knn_preds = knn_fit.predict_proba(test_data)\n",
    "knn_preds"
   ]
  },
  {
   "cell_type": "code",
   "execution_count": 63,
   "metadata": {
    "collapsed": false
   },
   "outputs": [
    {
     "ename": "NameError",
     "evalue": "name 'DataFrame' is not defined",
     "output_type": "error",
     "traceback": [
      "\u001b[0;31m---------------------------------------------------------------------------\u001b[0m",
      "\u001b[0;31mNameError\u001b[0m                                 Traceback (most recent call last)",
      "\u001b[0;32m<ipython-input-63-faf9cb486d5b>\u001b[0m in \u001b[0;36m<module>\u001b[0;34m()\u001b[0m\n\u001b[0;32m----> 1\u001b[0;31m \u001b[0msubmission_data\u001b[0m \u001b[0;34m=\u001b[0m \u001b[0mDataFrame\u001b[0m\u001b[0;34m(\u001b[0m\u001b[0mtest_data\u001b[0m\u001b[0;34m.\u001b[0m\u001b[0mix\u001b[0m\u001b[0;34m[\u001b[0m\u001b[0;34m:\u001b[0m\u001b[0;34m,\u001b[0m\u001b[0;36m0\u001b[0m\u001b[0;34m]\u001b[0m\u001b[0;34m,\u001b[0m\u001b[0mknn_test_preds\u001b[0m\u001b[0;34m)\u001b[0m\u001b[0;34m\u001b[0m\u001b[0m\n\u001b[0m",
      "\u001b[0;31mNameError\u001b[0m: name 'DataFrame' is not defined"
     ]
    }
   ],
   "source": [
    "submission_data = DataFrame(test_data.ix[:,0],knn_test_preds)"
   ]
  },
  {
   "cell_type": "code",
   "execution_count": 3,
   "metadata": {
    "collapsed": true
   },
   "outputs": [],
   "source": [
    "data_mins = np.min(training_data, axis = 0)\n",
    "data_maxes = np.max(training_data, axis = 0)\n",
    "data_diff = data_maxes - data_mins"
   ]
  },
  {
   "cell_type": "code",
   "execution_count": 20,
   "metadata": {
    "collapsed": true
   },
   "outputs": [],
   "source": [
    "outcome_mins = np.min(outcome_data, axis = 0)\n",
    "outcome_maxes = np.max(outcome_data, axis = 0)\n",
    "outcome_diff = outcome_mins - outcome_maxes"
   ]
  },
  {
   "cell_type": "code",
   "execution_count": 4,
   "metadata": {
    "collapsed": true
   },
   "outputs": [],
   "source": [
    "training_data_stand = (training_data - data_mins) / data_diff\n",
    "test_data_stand = (test_data - data_mins) / data_diff"
   ]
  },
  {
   "cell_type": "code",
   "execution_count": 5,
   "metadata": {
    "collapsed": true
   },
   "outputs": [],
   "source": [
    "k_values = [1, 2, 3, 4, 5, 10, 20, 40, 80]"
   ]
  },
  {
   "cell_type": "code",
   "execution_count": 8,
   "metadata": {
    "collapsed": false
   },
   "outputs": [],
   "source": [
    "folds = KFold(len(training_data_stand), n_folds = 10, shuffle = True)"
   ]
  },
  {
   "cell_type": "code",
   "execution_count": null,
   "metadata": {
    "collapsed": true
   },
   "outputs": [],
   "source": [
    "scores = {}\n",
    "for k in k_values:\n",
    "    currentScores = []\n",
    "    for train_index, val_index in folds:\n",
    "        current_train_data, current_val_data = training_data_stand[train_index], training_data_stand[val_index]\n",
    "        #current_train_price, current_val_price = price_train_stand[train_index], price_train_stand[val_index]\n",
    "        neigh = KNeighborsRegressor(n_neighbors = k)\n",
    "        neigh.fit(current_train_data, current_train_price)\n",
    "        guesses = neigh.predict(current_val_data)\n",
    "        rmse = np.sqrt(mean_squared_error(guesses, current_val_price))\n",
    "        currentScores.append(rmse)\n",
    "    scores[k] = currentScores"
   ]
  }
 ],
 "metadata": {
  "kernelspec": {
   "display_name": "Python 3",
   "language": "python",
   "name": "python3"
  },
  "language_info": {
   "codemirror_mode": {
    "name": "ipython",
    "version": 3
   },
   "file_extension": ".py",
   "mimetype": "text/x-python",
   "name": "python",
   "nbconvert_exporter": "python",
   "pygments_lexer": "ipython3",
   "version": "3.6.0"
  }
 },
 "nbformat": 4,
 "nbformat_minor": 2
}
